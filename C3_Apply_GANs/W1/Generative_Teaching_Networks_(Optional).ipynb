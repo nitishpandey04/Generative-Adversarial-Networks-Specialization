{
  "cells": [
    {
      "cell_type": "markdown",
      "metadata": {
        "id": "agrWjxVftMNN"
      },
      "source": [
        "# Generative Teaching Networks (GTN)\n",
        "\n",
        "*Please note that this is an optional notebook, meant to introduce more advanced concepts if you're up for a challenge, so don't worry if you don't completely follow! The first author of this work, Felipe Such, reviewed this notebook for you.*\n",
        "\n",
        "### Goals \n",
        "\n",
        "In this notebook, you'll be implementing a Generative Teaching Network (GTN), first introduced in [Generative Teaching Networks: Accelerating Neural Architecture Search by Learning to Generate Synthetic Training Data](https://arxiv.org/abs/1912.07768) (Such et al. 2019). Essentially, a GTN is composed of a generator (i.e. teacher), which produces synthetic data, and a student, which is trained on this data for some task. The key difference between GTNs and GANs is that GTN models work cooperatively (as opposed to adversarially).\n",
        "\n",
        "Throughout this notebook, you'll gain (deeper) exposure to the following concepts:\n",
        "\n",
        "1. **End-to-End Data Augmentation.** Data augmentation refers to the generation of more data from existing data to *augment* the training set. Examples of this with images include operations like random cropping and flipping. In this sense, the generator performs data augmentation by synthesizing data as extra training data. GTNs differ from previous data augmentation approaches in that:\n",
        "    - The generator and student are trained together, as opposed to training and freezing the generator, then training the student.\n",
        "    - The real data plays a small role: it's only used once every several student updates to update the generator with respect to the student's performance.\n",
        "    - The generated data doesn't look realistic (see visualization later in notebook) yet it's more effective for training the student than real data is!\n",
        "\n",
        "2. **Curriculum Learning.** The generator not only can synthesize data from random noise, but also can learn this random noise, or *curriculum*. By backpropagating through the inputs, the generator can be trained to select the curricula that it deems will be best for student learning.\n",
        "\n",
        "3. **Meta-Learning.** Meta-learning refers to \"learning to learn,\" a broad field that optimizes over different learning tasks to find the best way to learn. You're probably an example of a good meta-learner :). A GTN accomplishes this by training the generator to understand how the student learns, demonstrated via curriculum learning.\n",
        "\n",
        "4. **Neural Architecture Search.** But wait, there's still more! The generator doesn't just guide student training, it also can help determine the optimal student architecture (i.e. which layers, network depth). This concept of learning the best architecture is called Neural Architecture Search, or NAS. Pretty convenient, huh!\n",
        "\n",
        "![Figure 1a from the paper](https://github.com/https-deeplearning-ai/GANs-Public/blob/master/gtn_fig1.png?raw=true)\n",
        "*Figure 1(a) from the [GTN paper](https://arxiv.org/pdf/1912.07768.pdf), providing an overview of the method*\n",
        "\n",
        "### Learning Objectives\n",
        "\n",
        "By the end of this notebook, you should:\n",
        "\n",
        "1. Understand the concepts of teaching networks, meta-learning, and neural architecture search, and how they relate to the objective of data augmentation.\n",
        "2. Implement and train a GTN on MNIST, and observe how a GTN can accelerate training."
      ]
    },
    {
      "cell_type": "markdown",
      "metadata": {
        "id": "rVBfg9rgtR7h"
      },
      "source": [
        "## Getting Started\n",
        "\n",
        "Start by running the following two cells. The first cell imports packages that you'll use and checks whether the package, [Higher](https://github.com/facebookresearch/higher) (by Facebook Research), is installed. Higher allows you to \"unroll\" inner gradient updates. Unrolling inner updates means that instead of computing updates in a loop where previous updates are overwritten (i.e. one step of traditional SGD), each update is stored, which makes it easier to compute and apply gradients to the generator through multiple updates of the student.\n"
      ]
    },
    {
      "cell_type": "code",
      "execution_count": null,
      "metadata": {
        "colab": {
          "base_uri": "https://localhost:8080/"
        },
        "id": "lekB0j-YtH3y",
        "outputId": "67579100-c3b9-4f01-a70c-a4db0c650fe0",
        "vscode": {
          "languageId": "python"
        }
      },
      "outputs": [],
      "source": [
        "import os\n",
        "import sys\n",
        "import math\n",
        "import random\n",
        "\n",
        "import numpy as np\n",
        "import matplotlib.pyplot as plt\n",
        "from PIL import Image\n",
        "\n",
        "import torch\n",
        "import torch.nn as nn\n",
        "import torch.nn.functional as F\n",
        "import torch.optim as optim\n",
        "from torch import Tensor\n",
        "from torch.autograd import grad\n",
        "\n",
        "import torchvision\n",
        "import torchvision.datasets as datasets\n",
        "import torchvision.transforms as transforms\n",
        "from torch.autograd import Variable\n",
        "\n",
        "if 'higher' not in sys.modules:\n",
        "  !pip install higher\n",
        "import higher as higher\n",
        "\n",
        "print(sys.version)\n",
        "print(torch.__version__)"
      ]
    },
    {
      "cell_type": "code",
      "execution_count": null,
      "metadata": {
        "id": "10Wp24Y017h5",
        "vscode": {
          "languageId": "python"
        }
      },
      "outputs": [],
      "source": [
        "# Set random seeds\n",
        "random.seed(0)\n",
        "torch.manual_seed(0)\n",
        "np.random.seed(0)\n",
        "\n",
        "# Set important parameters\n",
        "learning_rate = 1e-2\n",
        "inner_loop_iterations = 32\n",
        "outer_loop_iterations = 5\n",
        "num_classes = 10\n",
        "\n",
        "noise_size = 64     # size of noise or curriculum vector\n",
        "img_size = 28    # width / height of generated image\n",
        "\n",
        "inner_loop_batch_size = 128\n",
        "outer_loop_batch_size = 128\n",
        "\n",
        "mnist_mean = 0.1307         # for normalizing mnist images\n",
        "mnist_std = 0.3081          # for normalizing mnist images\n",
        "\n",
        "imgs_per_row = num_classes"
      ]
    },
    {
      "cell_type": "markdown",
      "metadata": {
        "id": "Mebq3wsH4HeJ"
      },
      "source": [
        "### Dataset\n",
        "\n",
        "Download the MNIST dataset and organize it into a `torch.utils.data.Dataset` object. Then apply `torchvision.transforms` to convert raw PIL images to tensors."
      ]
    },
    {
      "cell_type": "code",
      "execution_count": null,
      "metadata": {
        "colab": {
          "base_uri": "https://localhost:8080/"
        },
        "id": "pc17E5a6tWWc",
        "outputId": "c76ead8b-b23c-4b08-f34c-35e28638b3c3",
        "vscode": {
          "languageId": "python"
        }
      },
      "outputs": [],
      "source": [
        "# Initialize MNIST transforms\n",
        "transform = transforms.Compose([\n",
        "    transforms.Lambda(lambda x: np.array(x)),\n",
        "    transforms.ToTensor(),\n",
        "    transforms.Normalize((mnist_mean,), (mnist_std,)),\n",
        "])\n",
        "\n",
        "# Create data splits\n",
        "train = datasets.MNIST('./data', train=True, transform=transform, download=True)\n",
        "train, val = torch.utils.data.random_split(train, [50000, 10000])\n",
        "test = datasets.MNIST('./data', train=False, transform=transform, download=True)\n",
        "print('Created train, val, and test datasets.')"
      ]
    },
    {
      "cell_type": "markdown",
      "metadata": {
        "id": "TEHDEx0A4rg7"
      },
      "source": [
        "### Dataloader\n",
        "\n",
        "Now wrap your dataset class in a `torch.utils.data.DataLoader` class, which will iterate over batches in training. This class increases memory access bandwidth so retrieving images from your dataset won't be a bottleneck in training. MNIST images are small, so the increase in memory retrieval speed should be relatively trivial."
      ]
    },
    {
      "cell_type": "code",
      "execution_count": null,
      "metadata": {
        "id": "B6oWjCknt0-9",
        "vscode": {
          "languageId": "python"
        }
      },
      "outputs": [],
      "source": [
        "train_loader = torch.utils.data.DataLoader(\n",
        "    train, batch_size=outer_loop_batch_size, shuffle=True, drop_last=True, num_workers=1, pin_memory=True,\n",
        ")\n",
        "\n",
        "val_loader = torch.utils.data.DataLoader(\n",
        "    val, batch_size=outer_loop_batch_size, shuffle=True, drop_last=True, num_workers=1, pin_memory=True,\n",
        ")\n",
        "\n",
        "test_loader = torch.utils.data.DataLoader(\n",
        "    test, batch_size=outer_loop_batch_size, shuffle=True, drop_last=True, num_workers=1, pin_memory=True,\n",
        ")"
      ]
    },
    {
      "cell_type": "markdown",
      "metadata": {
        "id": "aVZMid8yMcqo"
      },
      "source": [
        "## MNIST Classification\n",
        "\n",
        "In this next section, you'll implement and train a GTN on MNIST classification. Note that the student model for this task is a classifier. To extend GTNs to other datasets, you also want to check out the weight normalization technique in the paper --- for now on MNIST, you don't need to worry about this. Alright, let's get started with the generator and classifier's model architecture!"
      ]
    },
    {
      "cell_type": "markdown",
      "metadata": {
        "id": "NENBXah36vrh"
      },
      "source": [
        "### Generator \n",
        "\n",
        "Let's now build the generator. For this task, the generator will consist of two fully connected blocks (each consisting of a fully connected layer, a leaky ReLU, and a batch normalization layer) and two convolutional blocks (each consisting of a convolutional layer, a batch normalization layer and a leaky ReLU). A tanh layer is applied to this output to center it around `0` with reasonable standard deviation."
      ]
    },
    {
      "cell_type": "code",
      "execution_count": null,
      "metadata": {
        "id": "aKsF5G1V68sC",
        "vscode": {
          "languageId": "python"
        }
      },
      "outputs": [],
      "source": [
        "class Teacher(nn.Module):\n",
        "    '''\n",
        "    Implements a Teacher module.\n",
        "    '''\n",
        "    def __init__(self):\n",
        "        super().__init__()\n",
        "\n",
        "        conv1_filters = 64\n",
        "        fc1_size = 1024\n",
        "        \n",
        "        self.fc2_filters = 128\n",
        "        self.fc2_width = img_size\n",
        "        fc2_size = self.fc2_filters * self.fc2_width * self.fc2_width\n",
        "\n",
        "        self.fc1 = nn.Linear(noise_size + num_classes, fc1_size)\n",
        "        nn.init.kaiming_normal_(self.fc1.weight, 0.1)\n",
        "        self.bn_fc1 = nn.BatchNorm1d(fc1_size, momentum=0.1)\n",
        "\n",
        "        self.fc2 = nn.Linear(fc1_size, fc2_size)\n",
        "        nn.init.kaiming_normal_(self.fc2.weight, 0.1)\n",
        "        self.bn_fc2 = nn.BatchNorm2d(self.fc2_filters, momentum=0.1)\n",
        "\n",
        "        self.conv1 = nn.Conv2d(self.fc2_filters, conv1_filters, 3, 1, padding=3 // 2)\n",
        "        self.bn_conv1 = nn.BatchNorm2d(conv1_filters, momentum=0.1)\n",
        "\n",
        "        self.conv2 = nn.Conv2d(conv1_filters, 1, 3, 1, padding=3 // 2)\n",
        "        self.bn_conv2 = nn.BatchNorm2d(1, momentum=0.1)\n",
        "        \n",
        "        self.tanh = nn.Tanh()\n",
        "\n",
        "        self.learner_optim_params = nn.Parameter(torch.tensor([0.02, 0.5]), True)\n",
        "\n",
        "    def forward(self, x, target):\n",
        "        '''\n",
        "        Synthesizes a batch of training examples for the learner.\n",
        "        Args:\n",
        "            x (torch.tensor): shape (b, 64)\n",
        "            target (torch.tensor): shape (b, 10)\n",
        "        '''\n",
        "        # Fully connected block 1\n",
        "        x = torch.cat([x, target], dim=1)   # shape (b, 64+10)\n",
        "        x = self.fc1(x)                     # shape (b, 1024)\n",
        "        x = F.leaky_relu(x, 0.1)\n",
        "        x = self.bn_fc1(x)\n",
        "\n",
        "        # Fully connected block 2\n",
        "        x = self.fc2(x)                     # shape (b, 128*28*28)\n",
        "        x = F.leaky_relu(x, 0.1)\n",
        "        x = x.view(                         # shape (b, 128, 28, 28)\n",
        "            -1, self.fc2_filters, self.fc2_width, self.fc2_width\n",
        "        )\n",
        "        x = self.bn_fc2(x)\n",
        "\n",
        "        # Convolutional block 1\n",
        "        x = self.conv1(x)                   # shape (b, 64, 28, 28)\n",
        "        x = self.bn_conv1(x)\n",
        "        x = F.leaky_relu(x, 0.1)\n",
        "\n",
        "        # Convolutional block 2\n",
        "        x = self.conv2(x)                   # shape (b, 1, 28,  28)\n",
        "        x = self.bn_conv2(x)\n",
        "\n",
        "        x = (self.tanh(x) + 1 - 2 * mnist_mean) / (2 * mnist_std)\n",
        "        return x, target "
      ]
    },
    {
      "cell_type": "markdown",
      "metadata": {
        "id": "uUzswqH-69P4"
      },
      "source": [
        "### Classifier \n",
        "\n",
        "Now let's build the student model, a classifier. Be sure to randomize the number of convolutional filters in the first and second convolution layers so the teacher generalizes to other architectures. This is important since it'll help the teacher perform neural architecture search later.\n",
        "\n",
        "For MNIST classification, the classifier consists of two convolutional blocks (each consisting of a convolutional layer, a leaky ReLU, a batch normalization layer and a max pooling). After these layers, the output is flattened and passed through a fully connected layer, a batch normalization layer, and a softmax to generate probabilities per class."
      ]
    },
    {
      "cell_type": "code",
      "execution_count": null,
      "metadata": {
        "id": "rZqp0lAz7CmR",
        "vscode": {
          "languageId": "python"
        }
      },
      "outputs": [],
      "source": [
        "class Learner(nn.Module):\n",
        "    '''\n",
        "    Implements a Learner module.\n",
        "    '''\n",
        "    def __init__(self, num_conv1=None, num_conv2=None):\n",
        "        super().__init__()\n",
        "\n",
        "        # Randomly select and evaluate convolutional depth\n",
        "        # for evaluation/comparison in neural architecture search\n",
        "        if num_conv1 is None:\n",
        "            conv1_filters = np.random.randint(32, 64)\n",
        "        else:\n",
        "            conv1_filters = num_conv1\n",
        "        if num_conv2 is None:\n",
        "            conv2_filters = np.random.randint(64, 128)\n",
        "        else:\n",
        "            conv2_filters = num_conv2\n",
        "\n",
        "        self.conv1 = nn.Conv2d(1, conv1_filters, 3, 1)\n",
        "        self.bn1 = nn.BatchNorm2d(conv1_filters, momentum=0.1)\n",
        "\n",
        "        self.conv2 = nn.Conv2d(conv1_filters, conv2_filters, 3, 1)\n",
        "        self.bn2 = nn.BatchNorm2d(conv2_filters, momentum=0.1)\n",
        "\n",
        "        c1_size = (img_size - 3 + 1) // 2\n",
        "        c2_size = (c1_size - 3 + 1) // 2\n",
        "        \n",
        "        self.fc = nn.Linear(conv2_filters * c2_size * c2_size, num_classes)\n",
        "        self.bn3 = nn.BatchNorm1d(num_classes, momentum=0.1)\n",
        "        \n",
        "        self.activation = nn.LeakyReLU(0.1)\n",
        "\n",
        "    def forward(self, x):\n",
        "        x = self.conv1(x)\n",
        "        x = self.activation(x)\n",
        "        x = self.bn1(x)\n",
        "        x = F.max_pool2d(x, 2)\n",
        "\n",
        "        x = self.conv2(x)\n",
        "        x = self.activation(x)\n",
        "        x = self.bn2(x)\n",
        "        x = F.max_pool2d(x, 2)\n",
        "\n",
        "        x = torch.flatten(x, 1)\n",
        "        x = self.fc(x)\n",
        "        x = self.bn3(x)\n",
        "\n",
        "        return x"
      ]
    },
    {
      "cell_type": "markdown",
      "metadata": {
        "id": "TjMifQZ3pO0e"
      },
      "source": [
        "### Training \n",
        "\n",
        "*Note: can run on CPU but need high RAM version of Colab.*\n",
        "\n",
        "Now let's extend the inner loop implementation to train the outer loop loss function. After training the classifier on the synthetic data every `inner_loop_iterations`, evaluate the classifier on a batch of real data and backpropagate the resulting loss to the generator.\n",
        "\n",
        "After training for about 50 outer loop iterations, your validation accuracy should approach 90%. This means that your teacher is so good that it gets your student to a 90% validation accuracy with 32 iterations. That's pretty cool! Notice how the images don't look much like numbers. These images represent a compressed version of the training images with the most salient information needed for training."
      ]
    },
    {
      "cell_type": "code",
      "execution_count": null,
      "metadata": {
        "id": "9KLgaZ8Q7EUj",
        "vscode": {
          "languageId": "python"
        }
      },
      "outputs": [],
      "source": [
        "def generate_img(img_tensor):\n",
        "    '''\n",
        "    Function that renders an MNIST image.\n",
        "    '''\n",
        "    return torchvision.transforms.ToPILImage()(1 - ((img_tensor * mnist_std) + mnist_mean))"
      ]
    },
    {
      "cell_type": "code",
      "execution_count": null,
      "metadata": {
        "id": "gSL8cTcH55bK",
        "vscode": {
          "languageId": "python"
        }
      },
      "outputs": [],
      "source": [
        "teacher = Teacher()\n",
        "params_to_train = list(teacher.parameters())\n",
        "\n",
        "# If we want to use a curriculum, we initialize the learnable parameters here\n",
        "use_curriculum = True\n",
        "if use_curriculum:\n",
        "    curriculum = nn.Parameter(torch.randn(inner_loop_iterations, inner_loop_batch_size, noise_size), requires_grad=True)\n",
        "    params_to_train += [curriculum]\n",
        "\n",
        "optimizer_teacher = optim.Adam(params_to_train, lr=learning_rate)\n",
        "\n",
        "# For each inner loop iterations, we use the same sequence of labels. \n",
        "# This allows the curriculum vectors to train to stable labels \n",
        "label = torch.tensor([x % num_classes for x in range(inner_loop_batch_size)])\n",
        "\n",
        "# For the inner loop loss, we use cross entropy\n",
        "loss_fn = nn.CrossEntropyLoss()\n",
        "\n",
        "# Here we initialize iterators on the train and val datasets\n",
        "train_iterator = iter(train_loader)\n",
        "val_iterator = iter(val_loader)\n",
        "test_iterator = iter(test_loader)"
      ]
    },
    {
      "cell_type": "code",
      "execution_count": null,
      "metadata": {
        "colab": {
          "base_uri": "https://localhost:8080/",
          "height": 523
        },
        "id": "ULasVbFGqCUd",
        "outputId": "9b7ecf41-a245-41d1-eb52-fdd304e7e663",
        "vscode": {
          "languageId": "python"
        }
      },
      "outputs": [],
      "source": [
        "for it, real_data in enumerate(train_loader):\n",
        "\n",
        "    teacher.train()\n",
        "    optimizer_teacher.zero_grad()\n",
        "\n",
        "    # We also optimize the learner learning rate and momentum with the\n",
        "    # outer loop updates\n",
        "    learner_lr = teacher.learner_optim_params[0]\n",
        "    learner_momentum = teacher.learner_optim_params[1]\n",
        "\n",
        "    # Here we sample a learner with random number of conv filters\n",
        "    learner = Learner()\n",
        "    inner_optim = optim.SGD(learner.parameters(), lr=learner_lr.item(), momentum=learner_momentum.item())\n",
        "    learner.train()\n",
        "\n",
        "    inner_losses = []\n",
        "    with higher.innerloop_ctx(learner, inner_optim, override={'lr': [learner_lr], 'momentum': [learner_momentum]}) as (flearner, diffopt):\n",
        "        for step in range(inner_loop_iterations):\n",
        "\n",
        "            # Data generation\n",
        "            if use_curriculum:\n",
        "                z_vec = curriculum[step]\n",
        "            else:\n",
        "                z_vec = torch.randn(inner_loop_batch_size, noise_size)\n",
        "\n",
        "            one_hot = F.one_hot(label, num_classes)\n",
        "    \n",
        "            # Pass input to teacher to generate synthetic images\n",
        "            teacher_output, teacher_target = teacher(z_vec, one_hot)\n",
        "\n",
        "            # ====== Show intermediate generated images ======\n",
        "            if step == 0:\n",
        "                print('------------------ Outer loop iteration', it + 1, '------------------')\n",
        "                print('Examples 0 - 9 from beginning of inner loop:')\n",
        "                background = Image.new('L', (img_size * imgs_per_row + imgs_per_row + 1, img_size + 2))\n",
        "                for i in range(imgs_per_row): # indexes column \n",
        "                    background.paste(generate_img(teacher_output[i]), (i * 28 + i + 1, 1))\n",
        "                display(background)\n",
        "\n",
        "            if step == (inner_loop_iterations - 1):\n",
        "                print('Examples 0 - 9 from end of inner loop:')\n",
        "                background = Image.new('L', (img_size * imgs_per_row + imgs_per_row + 1, img_size + 2))\n",
        "                for i in range(imgs_per_row): # indexes column\n",
        "                    background.paste(generate_img(teacher_output[i]), (i * 28 + i + 1, 1))\n",
        "                display(background)\n",
        "\n",
        "            # Pass teacher output to the learner \n",
        "            learner_output = flearner(teacher_output)\n",
        "            loss = loss_fn(learner_output, label)\n",
        "            diffopt.step(loss)\n",
        "\n",
        "            inner_losses.append(loss.item())\n",
        "\n",
        "        correct = 0\n",
        "        data, target = real_data\n",
        "        output = flearner(data)\n",
        "        loss = loss_fn(output, target)\n",
        "        pred = output.argmax(dim=1, keepdim=True)\n",
        "        correct += pred.eq(target.view_as(pred)).sum().item()\n",
        "\n",
        "        accuracy_train = correct / target.shape[0]\n",
        "\n",
        "        print(\"Inner loop losses:\", inner_losses)\n",
        "        print(\"Train accuracy:\", accuracy_train)\n",
        "\n",
        "        # Compute accuracy on validation set\n",
        "        data, target = next(val_iterator)\n",
        "        print\n",
        "        output = flearner(data)\n",
        "        pred = output.argmax(dim=1, keepdim=True)\n",
        "        correct = pred.eq(target.view_as(pred)).sum().item()\n",
        "        accuracy = correct / outer_loop_batch_size\n",
        "        print(\"Val accuracy:\", accuracy)\n",
        "\n",
        "        if (it == outer_loop_iterations - 1):\n",
        "            # Compute accuracy on test set\n",
        "            correct = 0\n",
        "            for i, (data, target) in enumerate(test_loader):\n",
        "                output = flearner(data)\n",
        "                pred = output.argmax(dim=1, keepdim=True)\n",
        "                correct += pred.eq(target.view_as(pred)).sum().item()\n",
        "            accuracy = correct / (outer_loop_batch_size * len(test_loader))\n",
        "            print(\"----------------------------------\")\n",
        "            print(\"Done training...\")\n",
        "            print(\"Final test accuracy:\", accuracy)\n",
        "\n",
        "            # Final inner loop training curve\n",
        "            plt.plot(np.arange(len(inner_losses)), inner_losses)\n",
        "            plt.xlabel(\"Inner loop iteration\")\n",
        "            plt.ylabel(\"Cross entropy loss\")\n",
        "            plt.show()\n",
        "\n",
        "            break\n",
        "\n",
        "        loss.backward()\n",
        "\n",
        "    optimizer_teacher.step()"
      ]
    },
    {
      "cell_type": "markdown",
      "metadata": {
        "id": "mBMBPES6uZdm"
      },
      "source": [
        "## Simple MNIST NAS\n",
        "\n",
        "The key idea of this paper is that performance of larger networks on teacher-generated data is a good proxy for performance on real data, allowing you to search over many more architectures with limited compute. In fact, Such et al. state,\n",
        "\n",
        "> We found that to achieve the same predictive power (rank correlation) as achieved with only 128 SGD steps on GTN-generated data, you would instead need 1200 SGD steps on real data.\n",
        "\n",
        "With enough compute, you could train the teacher on large networks sampled from a NAS space, gradually increasing the number of inner loop updates and architectures per outer loop update. This would provide an end-to-end NAS model. However, Such et al. found that this is prohibitively expensive. Thus, the teacher is only trained on small networks with the hope that it'll generalize well to larger, more powerful networks.\n",
        "\n",
        "Now let's implement a simple neural architecture search (NAS) with your GTN. In this search, you'll optimize the number of convolutional filters for the two-layer student network you trained your teacher on earlier."
      ]
    },
    {
      "cell_type": "code",
      "execution_count": null,
      "metadata": {
        "colab": {
          "base_uri": "https://localhost:8080/"
        },
        "id": "5hQn3a53uQVc",
        "outputId": "32cb8abb-1045-497d-e855-692135223928",
        "vscode": {
          "languageId": "python"
        }
      },
      "outputs": [],
      "source": [
        "num_architectures = 10\n",
        "\n",
        "best_accuracy = 0\n",
        "\n",
        "for i in range(num_architectures):\n",
        "\n",
        "    # Randomly sample architecture\n",
        "    conv1_filters = np.random.randint(1, 64)\n",
        "    conv2_filters = np.random.randint(1, 128)\n",
        "\n",
        "    learner = Learner(conv1_filters, conv2_filters)\n",
        "    inner_optim = optim.SGD(learner.parameters(), lr=learner_lr.item(), momentum=learner_momentum.item())\n",
        "    learner.train()\n",
        "\n",
        "    # For some reason if we don't use higher here, accuracy drops significantly\n",
        "    with higher.innerloop_ctx(learner, inner_optim, override={'lr': [learner_lr], 'momentum': [learner_momentum]}) as (flearner, diffopt):\n",
        "        for step in range(inner_loop_iterations):\n",
        "\n",
        "            # Data generation\n",
        "            if use_curriculum:\n",
        "                z_vec = curriculum[step]\n",
        "            else:\n",
        "                z_vec = torch.randn(inner_loop_batch_size, noise_size)\n",
        "\n",
        "            one_hot = F.one_hot(label, num_classes)\n",
        "\n",
        "            # Pass input to teacher to generate synthetic images\n",
        "            teacher_output, teacher_target = teacher(z_vec, one_hot)\n",
        "\n",
        "            # Pass teacher output to the learner\n",
        "            learner_output = flearner(teacher_output)\n",
        "            loss = loss_fn(learner_output, label)\n",
        "            diffopt.step(loss)\n",
        "\n",
        "        # Compute accuracy on validation set\n",
        "        correct = 0\n",
        "        for val_idx, (data, target) in enumerate(val_loader, 0):\n",
        "            #if (val_idx == val_iterations): break\n",
        "            output = flearner(data)\n",
        "            pred = output.argmax(dim=1, keepdim=True)\n",
        "            correct += pred.eq(target.view_as(pred)).sum().item()\n",
        "        accuracy = correct / (outer_loop_batch_size * len(val_loader))\n",
        "\n",
        "        if (accuracy > best_accuracy):\n",
        "            best_accuracy = accuracy\n",
        "            filter_counts = (conv1_filters, conv2_filters)\n",
        "\n",
        "        print(\"------------------------- Architecture\", i + 1,\" -------------------------\")\n",
        "        print(\"Num conv1 filters:\", conv1_filters, \", Num conv2 filters:\", conv2_filters, \", Val accuracy:\", accuracy)\n",
        "\n",
        "        \n",
        "        if (i == num_architectures - 1):\n",
        "            correct = 0\n",
        "            for test_idx, (data, target) in enumerate(test_loader, 0):\n",
        "                #if (test_idx == test_iterations): break\n",
        "                output = flearner(data)\n",
        "                pred = output.argmax(dim=1, keepdim=True)\n",
        "                correct += pred.eq(target.view_as(pred)).sum().item()\n",
        "            accuracy = correct / (outer_loop_batch_size * len(test_loader))\n",
        "            print(\"------------------------- Best architecture -------------------------\")\n",
        "            print(\"Num conv1 filters:\", filter_counts[0], \", Num conv2 filters:\", filter_counts[1], \", Test accuracy:\", accuracy)\n",
        "          "
      ]
    },
    {
      "cell_type": "markdown",
      "metadata": {
        "id": "TWzzqGHUiufO"
      },
      "source": [
        "### Visualization \n",
        "\n",
        "The rows in the grid produced are images from equally-spaced inner loop iterations where the first row corresponds to the first inner loop iteration and the last row corresponds to the last. The columns correspond to classes where the first column is filled with 0's and the last colummn is filled with 9's."
      ]
    },
    {
      "cell_type": "code",
      "execution_count": null,
      "metadata": {
        "colab": {
          "base_uri": "https://localhost:8080/",
          "height": 482
        },
        "id": "tcNX36MTglMe",
        "outputId": "2edfd256-a370-4df5-a74c-5db4fdf90213",
        "vscode": {
          "languageId": "python"
        }
      },
      "outputs": [],
      "source": [
        "imgs_per_row = num_classes\n",
        "rows = inner_loop_iterations // 2 * img_size + inner_loop_iterations // 2 + 1\n",
        "cols = imgs_per_row * img_size + imgs_per_row + 1\n",
        "background = Image.new('L', (cols, rows))\n",
        "\n",
        "for step in range(0, inner_loop_iterations, 2): # indexes row\n",
        "    if use_curriculum:\n",
        "        z_vec = curriculum[step]\n",
        "    else:\n",
        "        z_vec = torch.randn(inner_loop_batch_size, noise_size)\n",
        "\n",
        "    one_hot = F.one_hot(label, num_classes)\n",
        "\n",
        "    teacher_output, teacher_target = teacher(z_vec, one_hot)\n",
        "\n",
        "    for i in range(imgs_per_row): # indexes column \n",
        "        background.paste(generate_img(teacher_output[i]), (i * img_size + i + 1, (step // 2) * img_size + (step // 2) + 1))\n",
        "\n",
        "display(background)"
      ]
    },
    {
      "cell_type": "markdown",
      "metadata": {
        "id": "bgKEU1W4BL17"
      },
      "source": [
        "### Conclusion\n",
        "\n",
        "Now you know how GTN-generated data augmentation can be useful for training classifiers quickly which in turn allows us to more efficiently search for best performing model architectures. You've seen how the whole process can be trained end-to-end, instead of training one model first, then another — you can certainly apply this principle elsewhere as you build your systems, merging different steps of the training process as you let the gradient flow all the way through your system! You've touched on evolving areas of research, such as curriculum learning, meta-learning, and neural architecture search (NAS), which you can also take to your other projects."
      ]
    }
  ],
  "metadata": {
    "colab": {
      "machine_shape": "hm",
      "name": "C3W1: Generative Teaching Networks (Optional).ipynb",
      "provenance": []
    },
    "kernelspec": {
      "display_name": "Python 3",
      "name": "python3"
    }
  },
  "nbformat": 4,
  "nbformat_minor": 0
}
